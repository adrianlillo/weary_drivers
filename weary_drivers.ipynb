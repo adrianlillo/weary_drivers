{
 "cells": [
  {
   "cell_type": "markdown",
   "id": "28de5a5f-f353-4cf5-8a59-47ccab90fb14",
   "metadata": {},
   "source": [
    "Adrián Lillo (2025)"
   ]
  },
  {
   "cell_type": "markdown",
   "id": "6793f1d2-b7e1-4d2a-94fc-303105240b2b",
   "metadata": {},
   "source": [
    "# Utility functions for trees"
   ]
  },
  {
   "cell_type": "code",
   "execution_count": 1,
   "id": "b3c3fd78-3dee-4e3e-be31-ef3e77316c96",
   "metadata": {},
   "outputs": [],
   "source": [
    "import itertools as it\n",
    "\n",
    "def graph_to_LOT(G, root=0, parent=None):\n",
    "    \"\"\"\n",
    "    Given a Graph object ``G`` that is a tree, return the corresponding\n",
    "    LabelledOrderedTree rooted at ``root``.\n",
    "    \"\"\"\n",
    "    children = []\n",
    "    if G[root] == []:\n",
    "        return LabelledOrderedTree(list(), label = root)\n",
    "    for neighbour in sorted(G[root]):\n",
    "        if neighbour != parent:\n",
    "            children.append(graph_to_LOT(G, neighbour, parent=root))\n",
    "    return LabelledOrderedTree(children, label = root)\n",
    "\n",
    "def _auxiliar_digraph(code):\n",
    "    \"\"\"\n",
    "    The auxiliar digraph defined by the word ``code``.  \n",
    "    This digraph is used as means to determine the tree with a given record code.\n",
    "    \"\"\"\n",
    "    n = len(code) + 1\n",
    "    edges = []\n",
    "    vertices = list([0..n])\n",
    "    for i in [1..n-1]:\n",
    "        edges.append((i, code[i - 1]))\n",
    "    return DiGraph([vertices, edges], loops = True)\n",
    "\n",
    "def maximum_reachable_vertex(aux, v):\n",
    "    \"\"\"\n",
    "    The maximum vertex of the digraph ``aux`` reachable from the vertex ``v``.\n",
    "    \"\"\"\n",
    "    max_found = 0\n",
    "    for path in aux.all_simple_paths([v]):\n",
    "        max_found = max(max_found, path[-1])\n",
    "    return max_found\n",
    "\n",
    "def code_records(code):\n",
    "    \"\"\"\n",
    "    The sorted list of records of the tree with record code ``code``. \n",
    "    \"\"\"\n",
    "    rec = []\n",
    "    aux = _auxiliar_digraph(code)\n",
    "    for v in aux:\n",
    "        max_reachable = maximum_reachable_vertex(aux, v)\n",
    "        if max_reachable <= v and v != 0: # The root 0 is not a record by convention. \n",
    "            rec.append(v)\n",
    "    return sorted(rec)\n",
    "\n",
    "def record_decoding(code, as_graph=False):\n",
    "    \"\"\"\n",
    "    The blob decoding of ``code``. \n",
    "    \"\"\"\n",
    "    n = len(code) + 1\n",
    "    edges = []\n",
    "    rec_list = code_records(code)\n",
    "\n",
    "    # Add nonrecord edges\n",
    "    edges += [(v, code[v - 1]) for v in [1..n] if v not in rec_list]\n",
    "    \n",
    "    # Add record edges \n",
    "    consecutive_records = zip(rec_list[:-1], rec_list[1:])\n",
    "    for v, w in consecutive_records:\n",
    "        edges.append((w, code[v-1]))\n",
    "    edges.append((rec_list[0], 0))\n",
    "\n",
    "    if as_graph:\n",
    "        return Graph(edges)       \n",
    "    return graph_to_LOT(Graph(edges))\n",
    "\n",
    "def tree_records(T, current_record=0):\n",
    "    \"\"\" \n",
    "    The list of records of the Cayley tree T\n",
    "    \"\"\"\n",
    "    res = []\n",
    "    label = T.label()\n",
    "    if label > current_record:\n",
    "        return (label,) + tuple(sum([tree_records(child, label) for child in T], tuple()))\n",
    "    return tuple(sum([tree_records(child, current_record) for child in T], tuple()))\n",
    "\n",
    "def CayleyTrees(n, as_graph=False):\n",
    "    \"\"\"\n",
    "    Iterator for the set of Cayley trees labelled with [n]_0.\n",
    "    \"\"\"\n",
    "    for code in it.product([0..n], repeat=n-1):\n",
    "        yield record_decoding(code, as_graph)\n",
    "\n",
    "def relabel_tree(T, relabel_map):\n",
    "    \"\"\"\n",
    "    Relabel tree T according to map ``relabel_map``\n",
    "    \"\"\"\n",
    "    children = [relabel_tree(child, relabel_map) for child in T]\n",
    "    new_label = relabel_map(T.label()) if T.label()!= 0 else T.label()\n",
    "    return LabelledOrderedTree(children=children, label=new_label)\n",
    "    \n",
    "def parent_map(T):\n",
    "    \"\"\"\n",
    "    A dictionary representing the parent map of T. \n",
    "    \"\"\"\n",
    "    f = {child.label(): T.label() for child in T}\n",
    "    for child in T:\n",
    "        f |= parent_map(child)\n",
    "    return f\n",
    "\n",
    "def record_plot(T, rec_color=\"#6666FF\", nrec_color=\"#FF6666\", **kwargs):\n",
    "    \"\"\"\n",
    "    Plot of the Cayley tree ``T`` using different colors for records and nonrecords.\n",
    "    \"\"\"\n",
    "    rec = tree_records(T)\n",
    "    nrec = [v for v in T.labels() if v not in rec]\n",
    "    return T.to_undirected_graph().plot(\n",
    "        tree_root = 0,\n",
    "        layout = \"tree\",\n",
    "        tree_orientation = \"down\",\n",
    "        vertex_colors = {rec_color : rec, nrec_color: nrec},\n",
    "        **kwargs\n",
    "    )"
   ]
  },
  {
   "cell_type": "markdown",
   "id": "0d03bf47-5ee5-48a0-9990-079a4e3b42f6",
   "metadata": {},
   "source": [
    "# Weary Parking "
   ]
  },
  {
   "cell_type": "markdown",
   "id": "5464e94e-a64f-4e7d-a340-fe97fbe3db78",
   "metadata": {},
   "source": [
    "## From Cayley trees to parking functions"
   ]
  },
  {
   "cell_type": "code",
   "execution_count": 2,
   "id": "e90363f7-8693-40c7-9da7-cb3c73176448",
   "metadata": {
    "scrolled": true
   },
   "outputs": [],
   "source": [
    "def get_fastest_unblocked(T_list):\n",
    "    min_found = T_list[0]\n",
    "    for T in T_list[1:]:\n",
    "        if T.label() < min_found.label():\n",
    "            min_found = T\n",
    "    return min_found\n",
    "\n",
    "def parking_outcome(T):\n",
    "    to_visit = list(T)\n",
    "    res = []\n",
    "    while to_visit != []:\n",
    "        visiting = get_fastest_unblocked(to_visit)\n",
    "        to_visit.remove(visiting)\n",
    "        res.append(visiting.label())\n",
    "        to_visit += list(visiting)\n",
    "    return Permutation(res) \n",
    "\n",
    "def priority_tree(T):\n",
    "    pv = parking_outcome(T)\n",
    "    return relabel_tree(T, pv.inverse())\n",
    "\n",
    "def preference_sequence(T):\n",
    "    outc_inv = parking_outcome(T).inverse()\n",
    "    n = len(parking_outcome(T))\n",
    "    pmap = parent_map(T)\n",
    "    pi = []\n",
    "    for i in [1..n]:\n",
    "        if pmap[i] == 0:\n",
    "            pi.append(1)\n",
    "        else:\n",
    "            pi.append(outc_inv(pmap[i]) + 1)\n",
    "    return ParkingFunction(pi)"
   ]
  },
  {
   "cell_type": "markdown",
   "id": "a1fd0be1-4a34-4e44-ab6e-e74c79292dcc",
   "metadata": {},
   "source": [
    "### Example"
   ]
  },
  {
   "cell_type": "code",
   "execution_count": 3,
   "id": "3907e8a3-be6d-404e-9a54-e4b524837c20",
   "metadata": {},
   "outputs": [
    {
     "name": "stdout",
     "output_type": "stream",
     "text": [
      "A Cayley tree T:\n"
     ]
    },
    {
     "data": {
      "image/png": "[encoded data removed]",
      "text/plain": [
       "Graphics object consisting of 20 graphics primitives"
      ]
     },
     "metadata": {},
     "output_type": "display_data"
    },
    {
     "name": "stdout",
     "output_type": "stream",
     "text": [
      "Priority tree of T\n"
     ]
    },
    {
     "data": {
      "image/png": "[encoded data removed]",
      "text/plain": [
       "Graphics object consisting of 20 graphics primitives"
      ]
     },
     "metadata": {},
     "output_type": "display_data"
    },
    {
     "name": "stdout",
     "output_type": "stream",
     "text": [
      "Parking outcome of T: [5, 2, 4, 7, 1, 3, 6, 8, 9]\n",
      "Preference sequence of T: [5, 2, 5, 3, 1, 6, 1, 2, 6]\n"
     ]
    }
   ],
   "source": [
    "T = record_decoding([7, 5, 7, 2, 0, 1, 5, 1])\n",
    "\n",
    "print(\"A Cayley tree T:\")\n",
    "record_plot(T).show(figsize=4)\n",
    "print(\"Priority tree of T\")\n",
    "record_plot(priority_tree(T)).show(figsize=4)\n",
    "print(f\"Parking outcome of T: {parking_outcome(T)}\")\n",
    "print(f\"Preference sequence of T: {preference_sequence(T)}\")"
   ]
  },
  {
   "cell_type": "markdown",
   "id": "61b905b3-dfd3-443e-a9a7-5120943e672f",
   "metadata": {},
   "source": [
    "## From parking functions to Cayley trees "
   ]
  },
  {
   "cell_type": "code",
   "execution_count": 3,
   "id": "26de8984-4c0c-4567-91cc-05bba2c27e7c",
   "metadata": {},
   "outputs": [],
   "source": [
    "def priority_vector(pf):\n",
    "    cars = pf.cars_permutation()\n",
    "    pv = [pf(cars(ind)) for ind in [1..len(pf)]]\n",
    "    return pv\n",
    "\n",
    "def arrival_tree(pf):\n",
    "    code = [x-1 for x in priority_vector(pf)[1:]]\n",
    "    return record_decoding(code)\n",
    "\n",
    "def parking_tree(pf):\n",
    "    res = relabel_tree(arrival_tree(pf), pf.cars_permutation())\n",
    "    return res "
   ]
  },
  {
   "cell_type": "markdown",
   "id": "2ccd9efe-9b4a-45da-8298-85470bd8467c",
   "metadata": {},
   "source": [
    "### Example"
   ]
  },
  {
   "cell_type": "code",
   "execution_count": 4,
   "id": "afced8fe-43a9-47af-9975-00ccf2e18d16",
   "metadata": {},
   "outputs": [
    {
     "name": "stdout",
     "output_type": "stream",
     "text": [
      "A parking function pi: [5, 2, 5, 3, 1, 6, 1, 2, 6]\n",
      "Priority vector of pi: [1, 2, 3, 1, 5, 5, 6, 2, 6]\n",
      "Bird's eye permutation of pi: [5, 2, 4, 7, 1, 3, 6, 8, 9]\n",
      "Parking tree of pi:\n"
     ]
    },
    {
     "data": {
      "image/png": "[encoded data removed]",
      "text/plain": [
       "Graphics object consisting of 20 graphics primitives"
      ]
     },
     "metadata": {},
     "output_type": "display_data"
    }
   ],
   "source": [
    "pf = ParkingFunction([5, 2, 5, 3, 1, 6, 1, 2, 6])\n",
    "print(f\"A parking function pi: {pf}\")\n",
    "print(f\"Priority vector of pi: {priority_vector(pf)}\")\n",
    "print(f\"Bird's eye permutation of pi: {pf.cars_permutation()}\")\n",
    "print(f\"Parking tree of pi:\")\n",
    "record_plot(parking_tree(pf)).show(figsize=4)"
   ]
  },
  {
   "cell_type": "markdown",
   "id": "e2b1f86b-c4d4-401d-b692-bbbac8a3f38f",
   "metadata": {},
   "source": [
    "## Verify bijection"
   ]
  },
  {
   "cell_type": "code",
   "execution_count": 5,
   "id": "fc112392-2552-43dc-b2e5-1c76d2b31c69",
   "metadata": {},
   "outputs": [],
   "source": [
    "for n in [1..6]:\n",
    "    for pf in ParkingFunctions(n):\n",
    "        assert pf == preference_sequence(parking_tree(pf))\n",
    "    for T in CayleyTrees(n):\n",
    "        assert T == parking_tree(preference_sequence(T))"
   ]
  },
  {
   "cell_type": "markdown",
   "id": "b4aa1d59-df8d-4398-ba6d-98b59c1ca784",
   "metadata": {},
   "source": [
    "# Statistics "
   ]
  },
  {
   "cell_type": "markdown",
   "id": "40b5095b-45fe-477b-87bf-bdb9fcfd984c",
   "metadata": {},
   "source": [
    "## Statistics in parking Functions"
   ]
  },
  {
   "cell_type": "code",
   "execution_count": 6,
   "id": "5043d160-c77d-474d-83b7-b6bf941a44c0",
   "metadata": {},
   "outputs": [],
   "source": [
    "from collections import Counter\n",
    "\n",
    "def ones(pf):\n",
    "    return sum(1 for x in pf if x==1)\n",
    "\n",
    "def probes(pf):\n",
    "    return pf.jump() + len(pf)\n",
    "\n",
    "def permutation_records(sigma):\n",
    "    rec = []\n",
    "    max_found = 0\n",
    "    for x in sigma:\n",
    "        if x >= max_found:\n",
    "            rec.append(x)\n",
    "            max_found = x\n",
    "    return tuple(sorted(rec))\n",
    "\n",
    "def pf_records(pf):\n",
    "    return permutation_records(pf.cars_permutation())\n",
    "\n",
    "def multiplicity_sequence(pf):\n",
    "    n = len(pf)\n",
    "    mult = [0]*(n + 1)\n",
    "    count = Counter(pf)\n",
    "    for key, val in count.items():\n",
    "        mult[val] +=1\n",
    "    mult[0] = n - sum(mult[1:]) + 1\n",
    "    return tuple(mult)"
   ]
  },
  {
   "cell_type": "markdown",
   "id": "dd2dc72d-11b1-4cba-aad0-9f462bfbd4e3",
   "metadata": {},
   "source": [
    "### Example"
   ]
  },
  {
   "cell_type": "code",
   "execution_count": 7,
   "id": "e0fc3b63-78a9-4c90-acdf-3de36fb6b775",
   "metadata": {},
   "outputs": [
    {
     "name": "stdout",
     "output_type": "stream",
     "text": [
      "pi = [5, 2, 5, 3, 1, 6, 1, 2, 6]\n",
      "ones(pi) = 2\n",
      "probes(pi) = 23\n",
      "Rec(pi) = (5, 7, 8, 9)\n",
      "mult(pi) = (5, 1, 4, 0, 0, 0, 0, 0, 0, 0)\n"
     ]
    }
   ],
   "source": [
    "pf = ParkingFunction([5, 2, 5, 3, 1, 6, 1, 2, 6])\n",
    "\n",
    "print(f\"pi = {pf}\")\n",
    "print(f\"ones(pi) = {ones(pf)}\")\n",
    "print(f\"probes(pi) = {probes(pf)}\")\n",
    "print(f\"Rec(pi) = {pf_records(pf)}\")\n",
    "print(f\"mult(pi) = {multiplicity_sequence(pf)}\")"
   ]
  },
  {
   "cell_type": "markdown",
   "id": "fe9b87ab-b13b-429d-94db-4c9b379de2c6",
   "metadata": {},
   "source": [
    "## Statistics in Cayley Trees"
   ]
  },
  {
   "cell_type": "code",
   "execution_count": 8,
   "id": "12c10bf7-e435-4f4d-8219-edca5cba6fd0",
   "metadata": {
    "scrolled": true
   },
   "outputs": [],
   "source": [
    "def tree_records(T, current_record=0):\n",
    "    res = []\n",
    "    label = T.label()\n",
    "    if label > current_record:\n",
    "        return (label,) + tuple(sum([tree_records(child, label) for child in T], tuple()))\n",
    "    return tuple(sorted(sum([tree_records(child, current_record) for child in T], tuple())))\n",
    "\n",
    "def diff(T, parent=0): \n",
    "    return T.label() - parent +  sum(diff(child, parent=T.label()) for child in T) \n",
    "\n",
    "def wait(T):\n",
    "    return diff(priority_tree(T))\n",
    "\n",
    "def edges(T):\n",
    "    return [(child.label(), T.label()) for child in T] + sum((edges(child) for child in T), [])\n",
    "\n",
    "def edge_small_ascents(T):\n",
    "    return [i for (i, j) in edges(T) if j == i - 1]\n",
    "\n",
    "def priority_small_ascents(T):\n",
    "    return edge_small_ascents(priority_tree(T))\n",
    "\n",
    "def root_degree(T):\n",
    "    return len(T)\n",
    "\n",
    "def children_sequence(T):\n",
    "    chseq = [0]*len(T.labels())\n",
    "    for subtree in T.subtrees():\n",
    "        chseq[len(subtree)] += 1\n",
    "    return tuple(chseq)"
   ]
  },
  {
   "cell_type": "markdown",
   "id": "191cdd23-c152-4af3-919e-7b40ae9d9fff",
   "metadata": {},
   "source": [
    "### Example"
   ]
  },
  {
   "cell_type": "code",
   "execution_count": 9,
   "id": "bf3ecf83",
   "metadata": {},
   "outputs": [
    {
     "name": "stdout",
     "output_type": "stream",
     "text": [
      "T =\n"
     ]
    },
    {
     "data": {
      "image/png": "[encoded data removed]",
      "text/plain": [
       "Graphics object consisting of 20 graphics primitives"
      ]
     },
     "metadata": {},
     "output_type": "display_data"
    },
    {
     "name": "stdout",
     "output_type": "stream",
     "text": [
      "ones(pi) = 2\n",
      "probes(pi) = 23\n",
      "Rec(pi) = (5, 7, 8, 9)\n",
      "mult(pi) = (5, 1, 4, 0, 0, 0, 0, 0, 0, 0)\n",
      "[1, 2, 4, 5]\n"
     ]
    }
   ],
   "source": [
    "T = record_decoding([7, 5, 7, 2, 0, 1, 5, 1])\n",
    "\n",
    "print(f\"T =\")\n",
    "record_plot(T).show(figsize=4)\n",
    "\n",
    "print(f\"ones(pi) = {ones(pf)}\")\n",
    "print(f\"probes(pi) = {probes(pf)}\")\n",
    "print(f\"Rec(pi) = {pf_records(pf)}\")\n",
    "print(f\"mult(pi) = {multiplicity_sequence(pf)}\")\n",
    "print(f\"diff(pi) = {\n",
    "\n",
    "pf = preference_sequence(T)\n",
    "print(pf.lucky_cars())"
   ]
  },
  {
   "cell_type": "markdown",
   "id": "b7f121ff-27e4-41f3-9d0a-41f300d93cf5",
   "metadata": {},
   "source": [
    "## Equidistribution of statistics"
   ]
  },
  {
   "cell_type": "markdown",
   "id": "cb9ca708-4d46-4e11-8bc7-508e0db90203",
   "metadata": {},
   "source": [
    "### Statistics that are preserved by the bijection"
   ]
  },
  {
   "cell_type": "code",
   "execution_count": 11,
   "id": "aad0a414-c6e5-4738-afce-57c5859a943e",
   "metadata": {},
   "outputs": [],
   "source": [
    "for n in [1..6]:\n",
    "    for pf in ParkingFunctions(4):\n",
    "        T = parking_tree(pf)\n",
    "        assert pf_records(pf) == tree_records(T)\n",
    "        assert probes(pf) == wait(T)\n",
    "        assert pf.luck() == len(priority_small_ascents(T))\n",
    "        assert ones(pf) == root_degree(T)\n",
    "        assert multiplicity_sequence(pf) == children_sequence(T)\n",
    "    for T in CayleyTrees(4):\n",
    "        assert children_sequence(T) == multiplicity_sequence(preference_sequence(T))"
   ]
  },
  {
   "cell_type": "markdown",
   "id": "ef71e617-97c1-47fd-b123-1729c24865f1",
   "metadata": {},
   "source": [
    "### Generating functions"
   ]
  },
  {
   "cell_type": "markdown",
   "id": "b13085dc-203b-4c9f-9c7e-98ca850a558a",
   "metadata": {},
   "source": [
    "#### Polynomial Ring"
   ]
  },
  {
   "cell_type": "code",
   "execution_count": 12,
   "id": "4ea50eff-a579-49be-b407-799e7ef9f330",
   "metadata": {},
   "outputs": [
    {
     "name": "stdout",
     "output_type": "stream",
     "text": [
      "Defining y, z, t, q, x1, w0, x2, w1, x3, w2, x4, w3, x5, w4, x6, w5, x7, w6, x8, w7, x9, w8, x10, w9, x11, w10, x12, w11, x13, w12, x14, w13, x15, w14, x16, w15, x17, w16, x18, w17, x19, w18, x20, w19, x21, w20, x22, w21, x23, w22, x24, w23, x25, w24, x26, w25, x27, w26, x28, w27, x29, w28, x30, w29\n"
     ]
    }
   ],
   "source": [
    "def get_variable_names(n):\n",
    "    res = ['y', 'z', 't', 'q']\n",
    "    for i in [1..n]:\n",
    "        res.append('x'+str(i))\n",
    "        res.append('w'+str(i-1))\n",
    "    return res\n",
    "\n",
    "n = 6\n",
    "R = PolynomialRing(QQ, names=get_variable_names(30)) # More than enough variables\n",
    "R.inject_variables()"
   ]
  },
  {
   "cell_type": "markdown",
   "id": "6753f12a-4c63-455d-a557-9b30d4865e29",
   "metadata": {},
   "source": [
    "#### Parking function g.f. "
   ]
  },
  {
   "cell_type": "code",
   "execution_count": 13,
   "id": "f907f113-597d-4386-a594-d351e477d4e0",
   "metadata": {},
   "outputs": [
    {
     "data": {
      "text/plain": [
       "y^3*z*t^2*q^2*x1*w0^2*x2*w2 + y^2*z^2*t*q^2*x1*w0*x2*w1^2 + y^2*z^2*t*q^2*w0*x2*w1^2"
      ]
     },
     "execution_count": 13,
     "metadata": {},
     "output_type": "execute_result"
    }
   ],
   "source": [
    "def pf_get_monomial(pf):\n",
    "    cy = probes(pf)\n",
    "    cz = pf.luck()\n",
    "    ct = ones(pf)\n",
    "    cq = len(pf)\n",
    "    \n",
    "    record_monomial = 1\n",
    "    for r in pf_records(pf):\n",
    "        record_monomial*=R('x'+str(r))\n",
    "\n",
    "    multiplicity_monomial=1\n",
    "    for ind, m in enumerate(multiplicity_sequence(pf)):\n",
    "        multiplicity_monomial*=R('w'+str(ind))^m\n",
    "    return record_monomial * y^cy * z^cz * t^ct * q^cq * multiplicity_monomial\n",
    "\n",
    "def pf_statistics_generating_function(n): \n",
    "    return sum(pf_get_monomial(pf) for pf in ParkingFunctions(n))\n",
    "    \n",
    "pf_statistics_generating_function(2)"
   ]
  },
  {
   "cell_type": "code",
   "execution_count": 14,
   "id": "cbdc815d",
   "metadata": {},
   "outputs": [
    {
     "data": {
      "text/plain": [
       "y^3*z*t^2*q^2*x1*w0^2*x2*w2 + y^2*z^2*t*q^2*x1*w0*x2*w1^2 + y^2*z^2*t*q^2*w0*x2*w1^2"
      ]
     },
     "execution_count": 14,
     "metadata": {},
     "output_type": "execute_result"
    }
   ],
   "source": [
    "def tree_get_monomial(T):\n",
    "    cy = wait(T)\n",
    "    cz = len(priority_small_ascents(T))\n",
    "    ct = len(T)\n",
    "    cq = len(T.labels()) - 1\n",
    "\n",
    "    record_monomial = 1\n",
    "    for r in tree_records(T):\n",
    "        record_monomial*=R('x'+str(r))\n",
    "\n",
    "    mult_monomial = 1\n",
    "    for ind, m in enumerate(children_sequence(T)):\n",
    "        mult_monomial *= R('w'+str(ind))^m\n",
    "        \n",
    "    return record_monomial * y^cy * z^cz * t^ct * q^cq * mult_monomial\n",
    "\n",
    "def tree_statistics_generating_function(n):\n",
    "    return sum(tree_get_monomial(pf) for pf in CayleyTrees(n))\n",
    "\n",
    "tree_statistics_generating_function(2)"
   ]
  },
  {
   "cell_type": "markdown",
   "id": "a2acced9-2226-4619-bb9e-de9ab3bae1f9",
   "metadata": {},
   "source": [
    "#### Check equality of generating functions"
   ]
  },
  {
   "cell_type": "code",
   "execution_count": 15,
   "id": "8ab22b6a-d14c-4cee-a02b-f30f99bf42a6",
   "metadata": {},
   "outputs": [],
   "source": [
    "for n in [1..6]:\n",
    "    assert pf_statistics_generating_function(n) == tree_statistics_generating_function(n)"
   ]
  }
 ],
 "metadata": {
  "kernelspec": {
   "display_name": "SageMath 10.4",
   "language": "sage",
   "name": "sagemath"
  },
  "language_info": {
   "codemirror_mode": {
    "name": "ipython",
    "version": 3
   },
   "file_extension": ".py",
   "mimetype": "text/x-python",
   "name": "python",
   "nbconvert_exporter": "python",
   "pygments_lexer": "ipython3",
   "version": "3.12.4"
  }
 },
 "nbformat": 4,
 "nbformat_minor": 5
}
